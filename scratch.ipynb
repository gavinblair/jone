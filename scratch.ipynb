{
 "cells": [
  {
   "cell_type": "code",
   "execution_count": null,
   "metadata": {},
   "outputs": [],
   "source": [
    "from src.tool_chooser import ToolChooser\n",
    "from src.llm.local_llm_driver import LocalLLMDriver\n",
    "\n",
    "query = \"Please do a currency converson to gbp.\"\n",
    "# query = \"Clear the caches of the test environment.\"\n",
    "# context = \"Pantheon site: 'my-pantheon-site'. Environment: 'dev'.\"\n",
    "context = \"\"\n",
    "llm_driver = LocalLLMDriver()\n",
    "print(\"---\")\n",
    "tool_chooser = ToolChooser(query, context, llm_driver, is_called_by_voice=False)\n",
    "result = tool_chooser.choose_and_run()\n",
    "print(\"----\")\n",
    "print(result)\n",
    "print(\"----\")"
   ]
  }
 ],
 "metadata": {
  "kernelspec": {
   "display_name": "Python 3 (ipykernel)",
   "language": "python",
   "name": "python3"
  },
  "language_info": {
   "codemirror_mode": {
    "name": "ipython",
    "version": 3
   },
   "file_extension": ".py",
   "mimetype": "text/x-python",
   "name": "python",
   "nbconvert_exporter": "python",
   "pygments_lexer": "ipython3",
   "version": "3.11.2"
  }
 },
 "nbformat": 4,
 "nbformat_minor": 2
}
