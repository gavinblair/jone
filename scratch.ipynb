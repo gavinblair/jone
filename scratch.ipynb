{
 "cells": [
  {
   "cell_type": "code",
   "execution_count": 1,
   "metadata": {},
   "outputs": [
    {
     "name": "stderr",
     "output_type": "stream",
     "text": [
      "Exception in thread Thread-6 (listen):\n",
      "Traceback (most recent call last):\n",
      "  File \"/Library/Frameworks/Python.framework/Versions/3.11/lib/python3.11/threading.py\", line 1038, in _bootstrap_inner\n",
      "    self.run()\n",
      "  File \"/Library/Frameworks/Python.framework/Versions/3.11/lib/python3.11/threading.py\", line 975, in run\n",
      "    self._target(*self._args, **self._kwargs)\n",
      "  File \"/Library/Frameworks/Python.framework/Versions/3.11/lib/python3.11/site-packages/keyboard/__init__.py\", line 294, in listen\n",
      "    _os_keyboard.listen(self.direct_callback)\n",
      "  File \"/Library/Frameworks/Python.framework/Versions/3.11/lib/python3.11/site-packages/keyboard/_darwinkeyboard.py\", line 430, in listen\n",
      "    raise OSError(\"Error 13 - Must be run as administrator\")\n",
      "OSError: Error 13 - Must be run as administrator\n"
     ]
    },
    {
     "name": "stdout",
     "output_type": "stream",
     "text": [
      "\u001b)0\u001b7\u001b[?47h\u001b[1;24r\u001b[m\u001b[4l\u001b[?1l\u001b>"
     ]
    },
    {
     "ename": "error",
     "evalue": "nocbreak() returned ERR",
     "output_type": "error",
     "traceback": [
      "\u001b[0;31m---------------------------------------------------------------------------\u001b[0m",
      "\u001b[0;31merror\u001b[0m                                     Traceback (most recent call last)",
      "File \u001b[0;32m/Library/Frameworks/Python.framework/Versions/3.11/lib/python3.11/curses/__init__.py:78\u001b[0m, in \u001b[0;36mwrapper\u001b[0;34m(func, *args, **kwds)\u001b[0m\n\u001b[1;32m     77\u001b[0m noecho()\n\u001b[0;32m---> 78\u001b[0m \u001b[43mcbreak\u001b[49m\u001b[43m(\u001b[49m\u001b[43m)\u001b[49m\n\u001b[1;32m     80\u001b[0m \u001b[38;5;66;03m# In keypad mode, escape sequences for special keys\u001b[39;00m\n\u001b[1;32m     81\u001b[0m \u001b[38;5;66;03m# (like the cursor keys) will be interpreted and\u001b[39;00m\n\u001b[1;32m     82\u001b[0m \u001b[38;5;66;03m# a special value like curses.KEY_LEFT will be returned\u001b[39;00m\n",
      "\u001b[0;31merror\u001b[0m: cbreak() returned ERR",
      "\nDuring handling of the above exception, another exception occurred:\n",
      "\u001b[0;31merror\u001b[0m                                     Traceback (most recent call last)",
      "Cell \u001b[0;32mIn[1], line 50\u001b[0m\n\u001b[1;32m     47\u001b[0m     curses\u001b[38;5;241m.\u001b[39mwrapper(curses_main)\n\u001b[1;32m     49\u001b[0m \u001b[38;5;28;01mif\u001b[39;00m \u001b[38;5;18m__name__\u001b[39m \u001b[38;5;241m==\u001b[39m \u001b[38;5;124m\"\u001b[39m\u001b[38;5;124m__main__\u001b[39m\u001b[38;5;124m\"\u001b[39m:\n\u001b[0;32m---> 50\u001b[0m     \u001b[43mmain\u001b[49m\u001b[43m(\u001b[49m\u001b[43m)\u001b[49m\n\u001b[1;32m     53\u001b[0m \u001b[38;5;66;03m# # context = \"\"\u001b[39;00m\n\u001b[1;32m     54\u001b[0m \u001b[38;5;66;03m# context = \"Pantheon site: 'my-pantheon-site'. Default Environment: 'dev'.\"\u001b[39;00m\n\u001b[1;32m     55\u001b[0m \n\u001b[0;32m   (...)\u001b[0m\n\u001b[1;32m     67\u001b[0m \u001b[38;5;66;03m# print(result)\u001b[39;00m\n\u001b[1;32m     68\u001b[0m \u001b[38;5;66;03m# print(\"----\")\u001b[39;00m\n",
      "Cell \u001b[0;32mIn[1], line 47\u001b[0m, in \u001b[0;36mmain\u001b[0;34m()\u001b[0m\n\u001b[1;32m     44\u001b[0m listener_thread\u001b[38;5;241m.\u001b[39mstart()\n\u001b[1;32m     46\u001b[0m \u001b[38;5;66;03m# Start curses UI in the main thread\u001b[39;00m\n\u001b[0;32m---> 47\u001b[0m \u001b[43mcurses\u001b[49m\u001b[38;5;241;43m.\u001b[39;49m\u001b[43mwrapper\u001b[49m\u001b[43m(\u001b[49m\u001b[43mcurses_main\u001b[49m\u001b[43m)\u001b[49m\n",
      "File \u001b[0;32m/Library/Frameworks/Python.framework/Versions/3.11/lib/python3.11/curses/__init__.py:100\u001b[0m, in \u001b[0;36mwrapper\u001b[0;34m(func, *args, **kwds)\u001b[0m\n\u001b[1;32m     98\u001b[0m stdscr\u001b[38;5;241m.\u001b[39mkeypad(\u001b[38;5;241m0\u001b[39m)\n\u001b[1;32m     99\u001b[0m echo()\n\u001b[0;32m--> 100\u001b[0m \u001b[43mnocbreak\u001b[49m\u001b[43m(\u001b[49m\u001b[43m)\u001b[49m\n\u001b[1;32m    101\u001b[0m endwin()\n",
      "\u001b[0;31merror\u001b[0m: nocbreak() returned ERR"
     ]
    }
   ],
   "source": [
    "import threading\n",
    "import curses\n",
    "import keyboard\n",
    "\n",
    "from src.tool_chooser import ToolChooser\n",
    "from src.llm.ollama_llm_driver import OllamaLLMDriver\n",
    "from src.llm.local_llm_driver import LocalLLMDriver\n",
    "\n",
    "def hold_to_talk_listener():\n",
    "    def on_press(key):\n",
    "        if key.name == 'space':  # Example: Hold space for \"hold-to-talk\"\n",
    "            print(\"Start talking...\")  # Replace with your TTS function call\n",
    "        # Add more conditions as necessary\n",
    "\n",
    "    def on_release(key):\n",
    "        if key.name == 'space':  # Release space to stop \"hold-to-talk\"\n",
    "            print(\"Stop talking...\")  # Replace with processing of voice input\n",
    "\n",
    "    keyboard.on_press(on_press)\n",
    "    keyboard.on_release(on_release)\n",
    "\n",
    "def curses_main(stdscr):\n",
    "    # Curses setup for UI\n",
    "    curses.curs_set(0)  # Hide cursor\n",
    "    stdscr.nodelay(True)  # Make getch() non-blocking\n",
    "    stdscr.clear()\n",
    "    while True:\n",
    "        try:\n",
    "            key = stdscr.getch()\n",
    "            stdscr.clear()\n",
    "            if key == ord('q'):  # Press 'q' to exit\n",
    "                break\n",
    "            elif key != -1:  # Any other key pressed\n",
    "                stdscr.addstr(0, 0, \"Key pressed: {}\".format(chr(key)))\n",
    "                # Update your UI or process input here\n",
    "            stdscr.refresh()\n",
    "        except Exception as e:\n",
    "            # Handle exceptions or ignore\n",
    "            pass\n",
    "\n",
    "def main():\n",
    "    # Start hold-to-talk listener in a separate thread\n",
    "    listener_thread = threading.Thread(target=hold_to_talk_listener, daemon=True)\n",
    "    listener_thread.start()\n",
    "\n",
    "    # Start curses UI in the main thread\n",
    "    curses.wrapper(curses_main)\n",
    "\n",
    "if __name__ == \"__main__\":\n",
    "    main()\n",
    "\n",
    "\n",
    "# # context = \"\"\n",
    "# context = \"Pantheon site: 'my-pantheon-site'. Default Environment: 'dev'.\"\n",
    "\n",
    "# # query = \"Please do a currency converson to CAD.\" #should not ask for \"to\" currency, because it's provided\n",
    "# # query = \"Clear the caches\"# should do the default environment\n",
    "# query = \"Set up the SFTP\"\n",
    "# # query = \"Clear the caches of the 'test' environment.\" # should override default environment\n",
    "\n",
    "# # llm_driver = OllamaLLMDriver(\"http://127.0.0.1:11434/\")\n",
    "# llm_driver = LocalLLMDriver(\"./src/llm/models/capybarahermes-2.5-mistral-7b.Q4_K_M.gguf\")\n",
    "# print(\"---\")\n",
    "# tool_chooser = ToolChooser(query, context, llm_driver, is_called_by_voice=False, debug=True)\n",
    "# result = tool_chooser.choose_and_run()\n",
    "# print(\"----\")\n",
    "# print(result)\n",
    "# print(\"----\")"
   ]
  }
 ],
 "metadata": {
  "kernelspec": {
   "display_name": "Python 3 (ipykernel)",
   "language": "python",
   "name": "python3"
  },
  "language_info": {
   "codemirror_mode": {
    "name": "ipython",
    "version": 3
   },
   "file_extension": ".py",
   "mimetype": "text/x-python",
   "name": "python",
   "nbconvert_exporter": "python",
   "pygments_lexer": "ipython3",
   "version": "3.11.2"
  }
 },
 "nbformat": 4,
 "nbformat_minor": 2
}
