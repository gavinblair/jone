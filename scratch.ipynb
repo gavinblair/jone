{
 "cells": [
  {
   "cell_type": "code",
   "execution_count": 1,
   "metadata": {},
   "outputs": [
    {
     "name": "stdout",
     "output_type": "stream",
     "text": [
      "---\n"
     ]
    },
    {
     "ename": "AttributeError",
     "evalue": "'OllamaLLMDriver' object has no attribute 'llm'",
     "output_type": "error",
     "traceback": [
      "\u001b[0;31m---------------------------------------------------------------------------\u001b[0m",
      "\u001b[0;31mAttributeError\u001b[0m                            Traceback (most recent call last)",
      "Cell \u001b[0;32mIn[1], line 15\u001b[0m\n\u001b[1;32m     13\u001b[0m \u001b[38;5;28mprint\u001b[39m(\u001b[38;5;124m\"\u001b[39m\u001b[38;5;124m---\u001b[39m\u001b[38;5;124m\"\u001b[39m)\n\u001b[1;32m     14\u001b[0m tool_chooser \u001b[38;5;241m=\u001b[39m ToolChooser(query, context, llm_driver, is_called_by_voice\u001b[38;5;241m=\u001b[39m\u001b[38;5;28;01mFalse\u001b[39;00m)\n\u001b[0;32m---> 15\u001b[0m result \u001b[38;5;241m=\u001b[39m \u001b[43mtool_chooser\u001b[49m\u001b[38;5;241;43m.\u001b[39;49m\u001b[43mchoose_and_run\u001b[49m\u001b[43m(\u001b[49m\u001b[43m)\u001b[49m\n\u001b[1;32m     16\u001b[0m \u001b[38;5;28mprint\u001b[39m(\u001b[38;5;124m\"\u001b[39m\u001b[38;5;124m----\u001b[39m\u001b[38;5;124m\"\u001b[39m)\n\u001b[1;32m     17\u001b[0m \u001b[38;5;28mprint\u001b[39m(result)\n",
      "File \u001b[0;32m~/Projects/code_library/Bot_Array/Jone2/src/tool_chooser.py:117\u001b[0m, in \u001b[0;36mToolChooser.choose_and_run\u001b[0;34m(self)\u001b[0m\n\u001b[1;32m    116\u001b[0m \u001b[38;5;28;01mdef\u001b[39;00m \u001b[38;5;21mchoose_and_run\u001b[39m(\u001b[38;5;28mself\u001b[39m):\n\u001b[0;32m--> 117\u001b[0m     tool \u001b[38;5;241m=\u001b[39m \u001b[38;5;28;43mself\u001b[39;49m\u001b[38;5;241;43m.\u001b[39;49m\u001b[43mchoose_tool\u001b[49m\u001b[43m(\u001b[49m\u001b[43m)\u001b[49m\n\u001b[1;32m    118\u001b[0m     \u001b[38;5;28;01mif\u001b[39;00m(\u001b[38;5;129;01mnot\u001b[39;00m tool):\n\u001b[1;32m    119\u001b[0m         \u001b[38;5;28;01mreturn\u001b[39;00m \u001b[38;5;28;01mNone\u001b[39;00m\n",
      "File \u001b[0;32m~/Projects/code_library/Bot_Array/Jone2/src/tool_chooser.py:74\u001b[0m, in \u001b[0;36mToolChooser.choose_tool\u001b[0;34m(self)\u001b[0m\n\u001b[1;32m     71\u001b[0m \u001b[38;5;28;01mdef\u001b[39;00m \u001b[38;5;21mchoose_tool\u001b[39m(\u001b[38;5;28mself\u001b[39m):\n\u001b[1;32m     72\u001b[0m     \u001b[38;5;66;03m# Toolsets should be listing the packages inside './tool'\u001b[39;00m\n\u001b[1;32m     73\u001b[0m     toolsets \u001b[38;5;241m=\u001b[39m \u001b[38;5;28mself\u001b[39m\u001b[38;5;241m.\u001b[39mfind_toolsets()\n\u001b[0;32m---> 74\u001b[0m     toolset \u001b[38;5;241m=\u001b[39m \u001b[38;5;28;43mself\u001b[39;49m\u001b[38;5;241;43m.\u001b[39;49m\u001b[43mllm_driver\u001b[49m\u001b[38;5;241;43m.\u001b[39;49m\u001b[43mdecide_toolset\u001b[49m\u001b[43m(\u001b[49m\u001b[43mtoolsets\u001b[49m\u001b[43m,\u001b[49m\u001b[43m \u001b[49m\u001b[38;5;28;43mself\u001b[39;49m\u001b[38;5;241;43m.\u001b[39;49m\u001b[43mquery\u001b[49m\u001b[43m,\u001b[49m\u001b[43m \u001b[49m\u001b[38;5;28;43mself\u001b[39;49m\u001b[38;5;241;43m.\u001b[39;49m\u001b[43mcontext\u001b[49m\u001b[43m)\u001b[49m\n\u001b[1;32m     75\u001b[0m     \u001b[38;5;28;01mif\u001b[39;00m \u001b[38;5;129;01mnot\u001b[39;00m toolset:\n\u001b[1;32m     76\u001b[0m         \u001b[38;5;28;01mreturn\u001b[39;00m \u001b[38;5;28;01mNone\u001b[39;00m\n",
      "File \u001b[0;32m~/Projects/code_library/Bot_Array/Jone2/src/llm/ollama_llm_driver.py:77\u001b[0m, in \u001b[0;36mOllamaLLMDriver.decide_toolset\u001b[0;34m(self, toolsets, query, context)\u001b[0m\n\u001b[1;32m     55\u001b[0m       prompt \u001b[38;5;241m=\u001b[39m \u001b[38;5;124mf\u001b[39m\u001b[38;5;124m\"\"\"\u001b[39m\u001b[38;5;124m<|im_start|>system\u001b[39m\n\u001b[1;32m     56\u001b[0m \u001b[38;5;124mA helpful toolset-choosing assistant chooses the correct toolset given the context and user query.<|im_end|>\u001b[39m\n\u001b[1;32m     57\u001b[0m \u001b[38;5;124m<|im_start|>user\u001b[39m\n\u001b[0;32m   (...)\u001b[0m\n\u001b[1;32m     73\u001b[0m \u001b[38;5;124m<|im_start|>assistant\u001b[39m\n\u001b[1;32m     74\u001b[0m \u001b[38;5;124m(\u001b[39m\u001b[38;5;124m\"\"\"\u001b[39m\n\u001b[1;32m     76\u001b[0m       \u001b[38;5;66;03m# Ask the LLM to generate a response based on the prompt to get the toolset recommendation\u001b[39;00m\n\u001b[0;32m---> 77\u001b[0m       llm_response \u001b[38;5;241m=\u001b[39m \u001b[38;5;28;43mself\u001b[39;49m\u001b[38;5;241;43m.\u001b[39;49m\u001b[43mgenerate_response\u001b[49m\u001b[43m(\u001b[49m\u001b[43mprompt\u001b[49m\u001b[43m,\u001b[49m\u001b[43m \u001b[49m\u001b[43mstop_token\u001b[49m\u001b[38;5;241;43m=\u001b[39;49m\u001b[38;5;124;43m\"\u001b[39;49m\u001b[38;5;124;43m)\u001b[39;49m\u001b[38;5;124;43m\"\u001b[39;49m\u001b[43m)\u001b[49m\n\u001b[1;32m     78\u001b[0m       \u001b[38;5;66;03m# Assuming generate_response will return a string response containing the name of the best toolset\u001b[39;00m\n\u001b[1;32m     79\u001b[0m       recommended_toolset \u001b[38;5;241m=\u001b[39m llm_response\u001b[38;5;241m.\u001b[39mstrip()\n",
      "File \u001b[0;32m~/Projects/code_library/Bot_Array/Jone2/src/llm/ollama_llm_driver.py:45\u001b[0m, in \u001b[0;36mOllamaLLMDriver.generate_response\u001b[0;34m(self, prompt, stop_token)\u001b[0m\n\u001b[1;32m     44\u001b[0m \u001b[38;5;28;01mdef\u001b[39;00m \u001b[38;5;21mgenerate_response\u001b[39m(\u001b[38;5;28mself\u001b[39m, prompt, stop_token\u001b[38;5;241m=\u001b[39m\u001b[38;5;124m\"\u001b[39m\u001b[38;5;124m<|im_end|>\u001b[39m\u001b[38;5;124m\"\u001b[39m):\n\u001b[0;32m---> 45\u001b[0m   output \u001b[38;5;241m=\u001b[39m \u001b[38;5;28;43mself\u001b[39;49m\u001b[38;5;241;43m.\u001b[39;49m\u001b[43mllm\u001b[49m(\n\u001b[1;32m     46\u001b[0m     prompt,\n\u001b[1;32m     47\u001b[0m     max_tokens\u001b[38;5;241m=\u001b[39m\u001b[38;5;241m200\u001b[39m,\n\u001b[1;32m     48\u001b[0m     temperature\u001b[38;5;241m=\u001b[39m\u001b[38;5;241m0\u001b[39m,\n\u001b[1;32m     49\u001b[0m     stop\u001b[38;5;241m=\u001b[39m[stop_token],\n\u001b[1;32m     50\u001b[0m     echo\u001b[38;5;241m=\u001b[39m\u001b[38;5;28;01mFalse\u001b[39;00m,        \u001b[38;5;66;03m# Whether to echo the prompt\u001b[39;00m\n\u001b[1;32m     51\u001b[0m   )\n\u001b[1;32m     52\u001b[0m   \u001b[38;5;28;01mreturn\u001b[39;00m output[\u001b[38;5;124m'\u001b[39m\u001b[38;5;124mchoices\u001b[39m\u001b[38;5;124m'\u001b[39m][\u001b[38;5;241m0\u001b[39m][\u001b[38;5;124m'\u001b[39m\u001b[38;5;124mtext\u001b[39m\u001b[38;5;124m'\u001b[39m]\n",
      "\u001b[0;31mAttributeError\u001b[0m: 'OllamaLLMDriver' object has no attribute 'llm'"
     ]
    }
   ],
   "source": [
    "from src.tool_chooser import ToolChooser\n",
    "from src.llm.ollama_llm_driver import OllamaLLMDriver\n",
    "\n",
    "\n",
    "# context = \"\"\n",
    "context = \"Pantheon site: 'my-pantheon-site'. Default Environment: 'dev'.\"\n",
    "\n",
    "query = \"Please do a currency converson to CAD.\" #should not ask for \"to\" currency, because it's provided\n",
    "# query = \"Clear the caches\"# should do the default environment\n",
    "# query = \"Clear the caches of the 'test' environment.\" # should override default environment\n",
    "\n",
    "llm_driver = OllamaLLMDriver(\"http://127.0.0.1:11434/\")\n",
    "print(\"---\")\n",
    "tool_chooser = ToolChooser(query, context, llm_driver, is_called_by_voice=False)\n",
    "result = tool_chooser.choose_and_run()\n",
    "print(\"----\")\n",
    "print(result)\n",
    "print(\"----\")"
   ]
  }
 ],
 "metadata": {
  "kernelspec": {
   "display_name": "Python 3 (ipykernel)",
   "language": "python",
   "name": "python3"
  },
  "language_info": {
   "codemirror_mode": {
    "name": "ipython",
    "version": 3
   },
   "file_extension": ".py",
   "mimetype": "text/x-python",
   "name": "python",
   "nbconvert_exporter": "python",
   "pygments_lexer": "ipython3",
   "version": "3.11.2"
  }
 },
 "nbformat": 4,
 "nbformat_minor": 2
}
